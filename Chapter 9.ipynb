{
 "cells": [
  {
   "cell_type": "markdown",
   "id": "5da1ff57",
   "metadata": {},
   "source": [
    "# Dictationaries"
   ]
  },
  {
   "cell_type": "code",
   "execution_count": 1,
   "id": "dec30ac3",
   "metadata": {},
   "outputs": [
    {
     "name": "stdout",
     "output_type": "stream",
     "text": [
      "{'money': 71, 'candy': 12, 'tissues': 32}\n"
     ]
    }
   ],
   "source": [
    "purse = dict()\n",
    "purse ['money']=71\n",
    "purse ['candy']=12\n",
    "purse['tissues']=32\n",
    "print(purse)"
   ]
  },
  {
   "cell_type": "code",
   "execution_count": 2,
   "id": "749c82de",
   "metadata": {},
   "outputs": [
    {
     "name": "stdout",
     "output_type": "stream",
     "text": [
      "{'money': 71, 'candy': 12, 'tissues': 37}\n"
     ]
    }
   ],
   "source": [
    "purse['tissues']=purse['tissues']+5\n",
    "print(purse)"
   ]
  },
  {
   "cell_type": "code",
   "execution_count": 3,
   "id": "02c2d208",
   "metadata": {},
   "outputs": [
    {
     "name": "stdout",
     "output_type": "stream",
     "text": [
      "{'age': 21, 'course': 182}\n",
      "{'age': 23, 'course': 182}\n"
     ]
    }
   ],
   "source": [
    "ddd = dict()\n",
    "ddd['age'] = 21\n",
    "ddd['course'] = 182\n",
    "print(ddd)\n",
    "ddd['age'] = 23\n",
    "print(ddd)\n",
    "\n"
   ]
  },
  {
   "cell_type": "code",
   "execution_count": 4,
   "id": "e5dd3ca5",
   "metadata": {},
   "outputs": [
    {
     "name": "stdout",
     "output_type": "stream",
     "text": [
      "{'chuck': 1, 'fred': 42, 'jan': 100}\n"
     ]
    }
   ],
   "source": [
    " jjj = { 'chuck' : 1 , 'fred' : 42, 'jan': 100}\n",
    "print(jjj)\n"
   ]
  },
  {
   "cell_type": "code",
   "execution_count": 7,
   "id": "602567ae",
   "metadata": {},
   "outputs": [
    {
     "name": "stdout",
     "output_type": "stream",
     "text": [
      "{}\n"
     ]
    }
   ],
   "source": [
    "item={}\n",
    "print(item)"
   ]
  },
  {
   "cell_type": "markdown",
   "id": "1e1bafa3",
   "metadata": {},
   "source": [
    "# Many counters with dictationary\n"
   ]
  },
  {
   "cell_type": "code",
   "execution_count": 8,
   "id": "2cfb46a4",
   "metadata": {},
   "outputs": [
    {
     "name": "stdout",
     "output_type": "stream",
     "text": [
      "{'csev': 1, 'cwen': 1}\n",
      "{'csev': 1, 'cwen': 2}\n"
     ]
    }
   ],
   "source": [
    " ccc = dict()\n",
    "ccc['csev'] = 1\n",
    "ccc['cwen'] = 1\n",
    "print(ccc)\n",
    "ccc['cwen'] = ccc['cwen'] + 1\n",
    " print(ccc)\n",
    "\n"
   ]
  },
  {
   "cell_type": "code",
   "execution_count": 11,
   "id": "5674ff47",
   "metadata": {},
   "outputs": [
    {
     "name": "stdout",
     "output_type": "stream",
     "text": [
      "{'csev': 2, 'cwen': 2, 'zqian': 1}\n"
     ]
    }
   ],
   "source": [
    "counts=dict()\n",
    "names = ['csev', 'cwen', 'csev', 'zqian', 'cwen']\n",
    "for name in names:\n",
    "    if name not in counts:\n",
    "        counts[name]=1\n",
    "    else:\n",
    "        counts[name]=counts[name]+1\n",
    "print(counts)"
   ]
  },
  {
   "cell_type": "markdown",
   "id": "971d15eb",
   "metadata": {},
   "source": [
    "# Get "
   ]
  },
  {
   "cell_type": "code",
   "execution_count": 12,
   "id": "d6479eec",
   "metadata": {},
   "outputs": [
    {
     "name": "stdout",
     "output_type": "stream",
     "text": [
      "{'csev': 2, 'cwen': 2, 'zqian': 1}\n"
     ]
    }
   ],
   "source": [
    "counts = dict()\n",
    "names = ['csev', 'cwen', 'csev', 'zqian', 'cwen']\n",
    "for name in names :\n",
    "    counts[name]=counts.get(name,0) +1\n",
    "print(counts)"
   ]
  },
  {
   "cell_type": "markdown",
   "id": "e3829e3a",
   "metadata": {},
   "source": [
    "# Counting Pattern\n"
   ]
  },
  {
   "cell_type": "code",
   "execution_count": 14,
   "id": "06ced6e8",
   "metadata": {},
   "outputs": [
    {
     "name": "stdout",
     "output_type": "stream",
     "text": [
      "Enter the line of textThe general pattern to count the  words in a line of text is to split the line into words, then loop  through the words and use a  dictionary to track the count of  each word independently\n",
      "Words:  ['The', 'general', 'pattern', 'to', 'count', 'the', 'words', 'in', 'a', 'line', 'of', 'text', 'is', 'to', 'split', 'the', 'line', 'into', 'words,', 'then', 'loop', 'through', 'the', 'words', 'and', 'use', 'a', 'dictionary', 'to', 'track', 'the', 'count', 'of', 'each', 'word', 'independently']\n",
      "{'The': 1, 'general': 1, 'pattern': 1, 'to': 1, 'count': 1, 'the': 1, 'words': 1, 'in': 1, 'a': 1, 'line': 1, 'of': 1, 'text': 1, 'is': 1, 'split': 1, 'into': 1, 'words,': 1, 'then': 1, 'loop': 1, 'through': 1, 'and': 1, 'use': 1, 'dictionary': 1, 'track': 1, 'each': 1, 'word': 1, 'independently': 1}\n"
     ]
    }
   ],
   "source": [
    "counts = dict()\n",
    "inp=input('Enter the line of text')\n",
    "words = inp.split()\n",
    "print('Words: ',words)\n",
    "for word in words:\n",
    "    counts[word]=counts.get(name,0)+1\n",
    "print(counts)"
   ]
  },
  {
   "cell_type": "code",
   "execution_count": 15,
   "id": "ae7358aa",
   "metadata": {},
   "outputs": [
    {
     "name": "stdout",
     "output_type": "stream",
     "text": [
      "chuck 1\n",
      "fred 42\n",
      "jan 100\n"
     ]
    }
   ],
   "source": [
    "jjj = { 'chuck' : 1 , 'fred' : 42, 'jan': 100}\n",
    "for aaa,bbb in jjj.items() :\n",
    "    print(aaa, bbb)"
   ]
  },
  {
   "cell_type": "code",
   "execution_count": null,
   "id": "f5c41657",
   "metadata": {},
   "outputs": [],
   "source": []
  }
 ],
 "metadata": {
  "kernelspec": {
   "display_name": "Python 3 (ipykernel)",
   "language": "python",
   "name": "python3"
  },
  "language_info": {
   "codemirror_mode": {
    "name": "ipython",
    "version": 3
   },
   "file_extension": ".py",
   "mimetype": "text/x-python",
   "name": "python",
   "nbconvert_exporter": "python",
   "pygments_lexer": "ipython3",
   "version": "3.11.4"
  }
 },
 "nbformat": 4,
 "nbformat_minor": 5
}
