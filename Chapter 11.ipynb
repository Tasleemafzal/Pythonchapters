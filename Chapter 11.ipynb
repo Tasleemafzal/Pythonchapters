{
 "cells": [
  {
   "cell_type": "code",
   "execution_count": 2,
   "id": "d91190b2",
   "metadata": {},
   "outputs": [
    {
     "name": "stdout",
     "output_type": "stream",
     "text": [
      "Red\n",
      "Sweet\n"
     ]
    }
   ],
   "source": [
    "class Apple:\n",
    "    pass\n",
    "class Apple:\n",
    "    color=\"\"\n",
    "    flavour=\"\"\n",
    "jonagold=Apple()\n",
    "jonagold.color=\"Red\"\n",
    "jonagold.flavour=\"Sweet\"\n",
    "print (jonagold.color)\n",
    "print (jonagold.flavour)"
   ]
  },
  {
   "cell_type": "code",
   "execution_count": 3,
   "id": "da691366",
   "metadata": {},
   "outputs": [
    {
     "name": "stdout",
     "output_type": "stream",
     "text": [
      "RED\n",
      "sweet\n"
     ]
    }
   ],
   "source": [
    "class Apple:\n",
    "    pass\n",
    "class Apple:\n",
    "    color=\"\"\n",
    "    flavour=\"\"\n",
    "jonagold=Apple()\n",
    "jonagold.color=\"Red\"\n",
    "jonagold.flavour=\"Sweet\"\n",
    "print (jonagold.color.upper())\n",
    "print (jonagold.flavour.lower())"
   ]
  },
  {
   "cell_type": "code",
   "execution_count": 4,
   "id": "07d37413",
   "metadata": {},
   "outputs": [
    {
     "name": "stdout",
     "output_type": "stream",
     "text": [
      "Red\n",
      "Sweet\n",
      "yellow\n",
      "soft\n"
     ]
    }
   ],
   "source": [
    "class Apple:\n",
    "    pass\n",
    "class Apple:\n",
    "    color=\"\"\n",
    "    flavour=\"\"\n",
    "jonagold=Apple()\n",
    "jonagold.color=\"Red\"\n",
    "jonagold.flavour=\"Sweet\"\n",
    "print (jonagold.color)\n",
    "print (jonagold.flavour)\n",
    "golden=Apple()\n",
    "golden.color=\"yellow\"\n",
    "golden.flavour=\"soft\"\n",
    "print(golden.color)\n",
    "print(golden.flavour)"
   ]
  },
  {
   "cell_type": "code",
   "execution_count": 6,
   "id": "b6530f67",
   "metadata": {},
   "outputs": [
    {
     "name": "stdout",
     "output_type": "stream",
     "text": [
      "Meow I am Luna!\n"
     ]
    }
   ],
   "source": [
    "class cat:\n",
    "    name=\"\"\n",
    "    def speak (self):\n",
    "        print(\"Meow I am {}!\".format(self.name))\n",
    "myluna=cat()\n",
    "myluna.name=\"Luna\"\n",
    "myluna.speak()\n",
    "              "
   ]
  },
  {
   "cell_type": "code",
   "execution_count": null,
   "id": "35328f02",
   "metadata": {},
   "outputs": [],
   "source": [
    "class apple:\n",
    "    def __init__(self,color,flavor)\n",
    "    self.color = color\n",
    "    self.flavor = flavpr\n",
    "jonagold = apple(\"red\",\"sweet\")\n",
    "print(jonagold.color)"
   ]
  }
 ],
 "metadata": {
  "kernelspec": {
   "display_name": "Python 3 (ipykernel)",
   "language": "python",
   "name": "python3"
  },
  "language_info": {
   "codemirror_mode": {
    "name": "ipython",
    "version": 3
   },
   "file_extension": ".py",
   "mimetype": "text/x-python",
   "name": "python",
   "nbconvert_exporter": "python",
   "pygments_lexer": "ipython3",
   "version": "3.11.4"
  }
 },
 "nbformat": 4,
 "nbformat_minor": 5
}
