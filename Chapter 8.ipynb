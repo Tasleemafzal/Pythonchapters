{
 "cells": [
  {
   "cell_type": "markdown",
   "id": "b70daaee",
   "metadata": {},
   "source": [
    "# constants in list"
   ]
  },
  {
   "cell_type": "code",
   "execution_count": 1,
   "id": "2e72a227",
   "metadata": {},
   "outputs": [
    {
     "name": "stdout",
     "output_type": "stream",
     "text": [
      "[1, 2, 3, 4, 5, 6, 7]\n",
      "['ahmed', 'sara', 'john']\n"
     ]
    }
   ],
   "source": [
    "print ([1,2,3,4,5,6,7])\n",
    "print(['ahmed','sara','john'])"
   ]
  },
  {
   "cell_type": "markdown",
   "id": "b0e4551f",
   "metadata": {},
   "source": [
    "# Lists and definite Loops"
   ]
  },
  {
   "cell_type": "code",
   "execution_count": 5,
   "id": "0b0fe894",
   "metadata": {},
   "outputs": [
    {
     "name": "stdout",
     "output_type": "stream",
     "text": [
      "Welcome to new class:  kat\n",
      "Welcome to new class:  john\n",
      "Welcome to new class:  walker\n",
      "Welcome to new class:  kristen\n"
     ]
    }
   ],
   "source": [
    "name = ['kat','john','walker','kristen']\n",
    "for x in name:\n",
    "    print ('Welcome to new class: ',x)"
   ]
  },
  {
   "cell_type": "code",
   "execution_count": 10,
   "id": "1ee208ca",
   "metadata": {},
   "outputs": [
    {
     "name": "stdout",
     "output_type": "stream",
     "text": [
      "Welcome asif\n",
      "Welcome hameed\n",
      "Welcome afzal\n",
      "Welcome tahir\n"
     ]
    }
   ],
   "source": [
    "Z = ['asif','hameed','afzal','tahir']\n",
    "for y in Z:\n",
    "    print('Welcome',y)"
   ]
  },
  {
   "cell_type": "markdown",
   "id": "c88e66ac",
   "metadata": {},
   "source": [
    "# Looking inside lists"
   ]
  },
  {
   "cell_type": "code",
   "execution_count": 13,
   "id": "bed5ae2e",
   "metadata": {},
   "outputs": [
    {
     "name": "stdout",
     "output_type": "stream",
     "text": [
      "hamra\n"
     ]
    }
   ],
   "source": [
    "fellows = ['hadiya','tehreem','hamra','attroba']\n",
    "print(fellows[2])"
   ]
  },
  {
   "cell_type": "markdown",
   "id": "7b6b61c5",
   "metadata": {},
   "source": [
    "# Lists are mutable"
   ]
  },
  {
   "cell_type": "code",
   "execution_count": 14,
   "id": "37f797ce",
   "metadata": {},
   "outputs": [
    {
     "name": "stdout",
     "output_type": "stream",
     "text": [
      "[1, 20, 78, 94, 59, 345]\n"
     ]
    }
   ],
   "source": [
    "items = [1,20,78,94,59,345]\n",
    "print(items)"
   ]
  },
  {
   "cell_type": "code",
   "execution_count": 15,
   "id": "8ef8d436",
   "metadata": {},
   "outputs": [
    {
     "name": "stdout",
     "output_type": "stream",
     "text": [
      "[1, 20, 76, 94, 59, 345]\n"
     ]
    }
   ],
   "source": [
    "items[2]=76\n",
    "print(items)"
   ]
  },
  {
   "cell_type": "code",
   "execution_count": 16,
   "id": "1786eb8c",
   "metadata": {},
   "outputs": [
    {
     "name": "stdout",
     "output_type": "stream",
     "text": [
      "6\n"
     ]
    }
   ],
   "source": [
    "print(len(items))"
   ]
  },
  {
   "cell_type": "markdown",
   "id": "3a25b611",
   "metadata": {},
   "source": [
    "# Range"
   ]
  },
  {
   "cell_type": "code",
   "execution_count": 28,
   "id": "8b024c75",
   "metadata": {},
   "outputs": [
    {
     "name": "stdout",
     "output_type": "stream",
     "text": [
      "3\n",
      "range(0, 3)\n"
     ]
    }
   ],
   "source": [
    "friends = ['Joseph', 'Glenn', 'Sally']\n",
    "print(len(friends))\n",
    "print(range(len(friends)))\n"
   ]
  },
  {
   "cell_type": "code",
   "execution_count": 27,
   "id": "810406e1",
   "metadata": {},
   "outputs": [
    {
     "name": "stdout",
     "output_type": "stream",
     "text": [
      "range(0, 4)\n"
     ]
    }
   ],
   "source": [
    "items = [1,20,78,94,59,345]\n",
    "print(range(4))"
   ]
  },
  {
   "cell_type": "markdown",
   "id": "7f2b7c94",
   "metadata": {},
   "source": [
    "# Concatenating Lists"
   ]
  },
  {
   "cell_type": "code",
   "execution_count": 29,
   "id": "de9fa2be",
   "metadata": {},
   "outputs": [
    {
     "name": "stdout",
     "output_type": "stream",
     "text": [
      "[1, 23, 4, 56, 7, 6, 78, 97, 5, 6, 7, 2]\n"
     ]
    }
   ],
   "source": [
    "a=[1,23,4,56,7]\n",
    "b=[6,78,97,5,6,7,2]\n",
    "c=a+b\n",
    "print(c)"
   ]
  },
  {
   "cell_type": "markdown",
   "id": "ae3e144d",
   "metadata": {},
   "source": [
    "# Slicing lists"
   ]
  },
  {
   "cell_type": "code",
   "execution_count": 31,
   "id": "7775622f",
   "metadata": {},
   "outputs": [
    {
     "name": "stdout",
     "output_type": "stream",
     "text": [
      "[3, 1, 5]\n"
     ]
    }
   ],
   "source": [
    "a=[2,3,1,5,8,9,12,123,234,88]\n",
    "print(a[1:4])"
   ]
  },
  {
   "cell_type": "code",
   "execution_count": 32,
   "id": "36114129",
   "metadata": {},
   "outputs": [
    {
     "name": "stdout",
     "output_type": "stream",
     "text": [
      "[2, 3, 1, 5, 8, 9]\n"
     ]
    }
   ],
   "source": [
    "print(a[:6])"
   ]
  },
  {
   "cell_type": "code",
   "execution_count": 33,
   "id": "3cab82f1",
   "metadata": {},
   "outputs": [
    {
     "name": "stdout",
     "output_type": "stream",
     "text": [
      "[12, 123, 234, 88]\n"
     ]
    }
   ],
   "source": [
    "print(a[6:])"
   ]
  },
  {
   "cell_type": "markdown",
   "id": "e9cfb930",
   "metadata": {},
   "source": [
    "# Append method"
   ]
  },
  {
   "cell_type": "code",
   "execution_count": 34,
   "id": "1e7da32f",
   "metadata": {},
   "outputs": [
    {
     "name": "stdout",
     "output_type": "stream",
     "text": [
      "['Book', 'Pencil', 'pen', 'rubber', 'Notebook', 'scale']\n"
     ]
    }
   ],
   "source": [
    "new=[]\n",
    "new.append('Book')\n",
    "new.append('Pencil')\n",
    "new.append('pen')\n",
    "new.append('rubber')\n",
    "new.append('Notebook')\n",
    "new.append('scale')\n",
    "print(new)"
   ]
  },
  {
   "cell_type": "markdown",
   "id": "c22bcadf",
   "metadata": {},
   "source": [
    "# Find something in a List"
   ]
  },
  {
   "cell_type": "code",
   "execution_count": 37,
   "id": "c5126b58",
   "metadata": {},
   "outputs": [
    {
     "data": {
      "text/plain": [
       "True"
      ]
     },
     "execution_count": 37,
     "metadata": {},
     "output_type": "execute_result"
    }
   ],
   "source": [
    "items=['Book','pencil','Eraser','scale','notebook']\n",
    "'Book' in items\n"
   ]
  },
  {
   "cell_type": "code",
   "execution_count": 39,
   "id": "b98a27a2",
   "metadata": {},
   "outputs": [
    {
     "data": {
      "text/plain": [
       "False"
      ]
     },
     "execution_count": 39,
     "metadata": {},
     "output_type": "execute_result"
    }
   ],
   "source": [
    "'Pen' in items"
   ]
  },
  {
   "cell_type": "code",
   "execution_count": 40,
   "id": "6f3f68d0",
   "metadata": {},
   "outputs": [
    {
     "data": {
      "text/plain": [
       "True"
      ]
     },
     "execution_count": 40,
     "metadata": {},
     "output_type": "execute_result"
    }
   ],
   "source": [
    "'Eraser' in items"
   ]
  },
  {
   "cell_type": "markdown",
   "id": "b1221339",
   "metadata": {},
   "source": [
    "# Sorting in lists"
   ]
  },
  {
   "cell_type": "code",
   "execution_count": 41,
   "id": "a7f31b9a",
   "metadata": {},
   "outputs": [
    {
     "name": "stdout",
     "output_type": "stream",
     "text": [
      "['Book', 'Eraser', 'notebook', 'pencil', 'scale']\n"
     ]
    }
   ],
   "source": [
    "items=['Book','pencil','Eraser','scale','notebook']\n",
    "items.sort()\n",
    "print(items)"
   ]
  },
  {
   "cell_type": "code",
   "execution_count": 42,
   "id": "72395180",
   "metadata": {},
   "outputs": [
    {
     "name": "stdout",
     "output_type": "stream",
     "text": [
      "pencil\n"
     ]
    }
   ],
   "source": [
    "print(items[3])"
   ]
  },
  {
   "cell_type": "markdown",
   "id": "38cffbb7",
   "metadata": {},
   "source": [
    "# Built-in Functions in List"
   ]
  },
  {
   "cell_type": "code",
   "execution_count": 43,
   "id": "9b405507",
   "metadata": {},
   "outputs": [
    {
     "name": "stdout",
     "output_type": "stream",
     "text": [
      "10\n"
     ]
    }
   ],
   "source": [
    "Numbers=[2,3,1,5,8,9,12,123,234,88]\n",
    "print(len(Numbers))"
   ]
  },
  {
   "cell_type": "code",
   "execution_count": 44,
   "id": "bcbb2c63",
   "metadata": {},
   "outputs": [
    {
     "name": "stdout",
     "output_type": "stream",
     "text": [
      "234\n"
     ]
    }
   ],
   "source": [
    "print(max(Numbers))"
   ]
  },
  {
   "cell_type": "code",
   "execution_count": 45,
   "id": "b62a3f67",
   "metadata": {},
   "outputs": [
    {
     "name": "stdout",
     "output_type": "stream",
     "text": [
      "1\n"
     ]
    }
   ],
   "source": [
    "print(min(Numbers))"
   ]
  },
  {
   "cell_type": "code",
   "execution_count": 46,
   "id": "466a01cf",
   "metadata": {},
   "outputs": [
    {
     "name": "stdout",
     "output_type": "stream",
     "text": [
      "485\n"
     ]
    }
   ],
   "source": [
    "print(sum(Numbers))"
   ]
  },
  {
   "cell_type": "code",
   "execution_count": null,
   "id": "6bb9a913",
   "metadata": {},
   "outputs": [],
   "source": [
    "total = 0\n",
    "count = 0\n",
    "while True :\n",
    "    inp = input('Enter a number: ')\n",
    "    if inp == 'done' : break\n",
    "value = float(inp)\n",
    "total = total + value \n",
    "count = count + 1\n",
    "average = total / count\n",
    "print('Average:', average)\n"
   ]
  },
  {
   "cell_type": "code",
   "execution_count": null,
   "id": "ed8b0702",
   "metadata": {},
   "outputs": [],
   "source": []
  },
  {
   "cell_type": "code",
   "execution_count": null,
   "id": "ee65fb8e",
   "metadata": {},
   "outputs": [],
   "source": []
  }
 ],
 "metadata": {
  "kernelspec": {
   "display_name": "Python 3 (ipykernel)",
   "language": "python",
   "name": "python3"
  },
  "language_info": {
   "codemirror_mode": {
    "name": "ipython",
    "version": 3
   },
   "file_extension": ".py",
   "mimetype": "text/x-python",
   "name": "python",
   "nbconvert_exporter": "python",
   "pygments_lexer": "ipython3",
   "version": "3.11.4"
  }
 },
 "nbformat": 4,
 "nbformat_minor": 5
}
