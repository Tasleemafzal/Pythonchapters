{
 "cells": [
  {
   "cell_type": "markdown",
   "id": "bdea22d1",
   "metadata": {},
   "source": [
    "# Opening a file"
   ]
  },
  {
   "cell_type": "code",
   "execution_count": 22,
   "id": "0d881cc4",
   "metadata": {},
   "outputs": [],
   "source": [
    "fhand = open('file.txt', 'r')\n",
    "\n"
   ]
  },
  {
   "cell_type": "code",
   "execution_count": 15,
   "id": "a5c27432",
   "metadata": {},
   "outputs": [
    {
     "ename": "FileNotFoundError",
     "evalue": "[Errno 2] No such file or directory: 'stuff.txt'",
     "output_type": "error",
     "traceback": [
      "\u001b[1;31m---------------------------------------------------------------------------\u001b[0m",
      "\u001b[1;31mFileNotFoundError\u001b[0m                         Traceback (most recent call last)",
      "Cell \u001b[1;32mIn[15], line 1\u001b[0m\n\u001b[1;32m----> 1\u001b[0m fhand \u001b[38;5;241m=\u001b[39m \u001b[38;5;28mopen\u001b[39m(\u001b[38;5;124m'\u001b[39m\u001b[38;5;124mstuff.txt\u001b[39m\u001b[38;5;124m'\u001b[39m)\n",
      "File \u001b[1;32m~\\anaconda3\\Lib\\site-packages\\IPython\\core\\interactiveshell.py:284\u001b[0m, in \u001b[0;36m_modified_open\u001b[1;34m(file, *args, **kwargs)\u001b[0m\n\u001b[0;32m    277\u001b[0m \u001b[38;5;28;01mif\u001b[39;00m file \u001b[38;5;129;01min\u001b[39;00m {\u001b[38;5;241m0\u001b[39m, \u001b[38;5;241m1\u001b[39m, \u001b[38;5;241m2\u001b[39m}:\n\u001b[0;32m    278\u001b[0m     \u001b[38;5;28;01mraise\u001b[39;00m \u001b[38;5;167;01mValueError\u001b[39;00m(\n\u001b[0;32m    279\u001b[0m         \u001b[38;5;124mf\u001b[39m\u001b[38;5;124m\"\u001b[39m\u001b[38;5;124mIPython won\u001b[39m\u001b[38;5;124m'\u001b[39m\u001b[38;5;124mt let you open fd=\u001b[39m\u001b[38;5;132;01m{\u001b[39;00mfile\u001b[38;5;132;01m}\u001b[39;00m\u001b[38;5;124m by default \u001b[39m\u001b[38;5;124m\"\u001b[39m\n\u001b[0;32m    280\u001b[0m         \u001b[38;5;124m\"\u001b[39m\u001b[38;5;124mas it is likely to crash IPython. If you know what you are doing, \u001b[39m\u001b[38;5;124m\"\u001b[39m\n\u001b[0;32m    281\u001b[0m         \u001b[38;5;124m\"\u001b[39m\u001b[38;5;124myou can use builtins\u001b[39m\u001b[38;5;124m'\u001b[39m\u001b[38;5;124m open.\u001b[39m\u001b[38;5;124m\"\u001b[39m\n\u001b[0;32m    282\u001b[0m     )\n\u001b[1;32m--> 284\u001b[0m \u001b[38;5;28;01mreturn\u001b[39;00m io_open(file, \u001b[38;5;241m*\u001b[39margs, \u001b[38;5;241m*\u001b[39m\u001b[38;5;241m*\u001b[39mkwargs)\n",
      "\u001b[1;31mFileNotFoundError\u001b[0m: [Errno 2] No such file or directory: 'stuff.txt'"
     ]
    }
   ],
   "source": [
    "fhand = open('stuff.txt')"
   ]
  },
  {
   "cell_type": "markdown",
   "id": "aac0e5ab",
   "metadata": {},
   "source": [
    "# Newline character"
   ]
  },
  {
   "cell_type": "code",
   "execution_count": 11,
   "id": "718b8cfd",
   "metadata": {},
   "outputs": [
    {
     "name": "stdout",
     "output_type": "stream",
     "text": [
      "Hello\n",
      "World!\n"
     ]
    }
   ],
   "source": [
    "stuff = 'Hello\\nWorld!'\n",
    "print(stuff)"
   ]
  },
  {
   "cell_type": "code",
   "execution_count": 12,
   "id": "e851aba2",
   "metadata": {},
   "outputs": [
    {
     "name": "stdout",
     "output_type": "stream",
     "text": [
      "X\n",
      "y\n"
     ]
    }
   ],
   "source": [
    "stuff = 'X\\ny'\n",
    "print (stuff)"
   ]
  },
  {
   "cell_type": "code",
   "execution_count": 13,
   "id": "24e7c123",
   "metadata": {},
   "outputs": [
    {
     "data": {
      "text/plain": [
       "3"
      ]
     },
     "execution_count": 13,
     "metadata": {},
     "output_type": "execute_result"
    }
   ],
   "source": [
    "len(stuff)"
   ]
  },
  {
   "cell_type": "code",
   "execution_count": 1,
   "id": "20c50192",
   "metadata": {},
   "outputs": [],
   "source": []
  },
  {
   "cell_type": "code",
   "execution_count": 5,
   "id": "9048e8f2",
   "metadata": {},
   "outputs": [
    {
     "name": "stdout",
     "output_type": "stream",
     "text": [
      "<_io.TextIOWrapper name='file.txt' mode='r' encoding='cp1252'>\n"
     ]
    }
   ],
   "source": [
    "xyz = open('file.txt')\n",
    "for x in xyz:\n",
    "    print (xyz)"
   ]
  },
  {
   "cell_type": "code",
   "execution_count": 8,
   "id": "19d54a5c",
   "metadata": {},
   "outputs": [
    {
     "name": "stdout",
     "output_type": "stream",
     "text": [
      "Total number of lines are 3\n"
     ]
    }
   ],
   "source": [
    "fhand = open('file.txt')\n",
    "count = 0\n",
    "for x in fhand:\n",
    "    count=count+1\n",
    "print ('Total number of lines are', count)"
   ]
  },
  {
   "cell_type": "code",
   "execution_count": 9,
   "id": "6f3785dc",
   "metadata": {},
   "outputs": [
    {
     "name": "stdout",
     "output_type": "stream",
     "text": [
      "344\n"
     ]
    }
   ],
   "source": [
    "fhand = open('file.txt')\n",
    "inp = fhand.read()\n",
    "print(len(inp))"
   ]
  },
  {
   "cell_type": "code",
   "execution_count": 11,
   "id": "673bd7a4",
   "metadata": {},
   "outputs": [
    {
     "name": "stdout",
     "output_type": "stream",
     "text": [
      "He stepped away from\n"
     ]
    }
   ],
   "source": [
    "print(inp[:20])\n"
   ]
  },
  {
   "cell_type": "code",
   "execution_count": 22,
   "id": "d2884fcf",
   "metadata": {},
   "outputs": [
    {
     "name": "stdout",
     "output_type": "stream",
     "text": [
      "He stepped away from the mic. This was the best take he had done so far, but something seemed missing. Then it struck him all at once.\n",
      "\n"
     ]
    }
   ],
   "source": [
    "fhand = open('file.txt')\n",
    "for line in fhand:\n",
    "    if line.startswith('He'):\n",
    "        print(line)"
   ]
  },
  {
   "cell_type": "code",
   "execution_count": 21,
   "id": "a10cd997",
   "metadata": {},
   "outputs": [
    {
     "name": "stdout",
     "output_type": "stream",
     "text": [
      "Visuals ran in front of his eyes and music rang in his ears. His eager fingers went to work in an attempt to capture his thought\n",
      "\n"
     ]
    }
   ],
   "source": [
    "fhand = open('file.txt')\n",
    "for line in fhand:\n",
    "    if line.startswith('Visuals') :\n",
    "        print(line)"
   ]
  },
  {
   "cell_type": "markdown",
   "id": "0d4c4754",
   "metadata": {},
   "source": [
    "# Skipping with continue"
   ]
  },
  {
   "cell_type": "code",
   "execution_count": 24,
   "id": "ef8e2847",
   "metadata": {},
   "outputs": [
    {
     "name": "stdout",
     "output_type": "stream",
     "text": [
      "He stepped away from the mic. This was the best take he had done so far, but something seemed missing. Then it struck him all at once.\n"
     ]
    }
   ],
   "source": [
    "fhand = open('file.txt')\n",
    "for x in fhand:\n",
    "    x=x.rstrip()\n",
    "    if not x.startswith('He'):\n",
    "        continue\n",
    "    print(x)\n"
   ]
  },
  {
   "cell_type": "markdown",
   "id": "2ce02773",
   "metadata": {},
   "source": [
    "# Using IN to select lines"
   ]
  },
  {
   "cell_type": "code",
   "execution_count": 25,
   "id": "5301e103",
   "metadata": {},
   "outputs": [
    {
     "name": "stdout",
     "output_type": "stream",
     "text": [
      "He stepped away from the mic. This was the best take he had done so far, but something seemed missing. Then it struck him all at once.\n"
     ]
    }
   ],
   "source": [
    "fhand = open('file.txt')\n",
    "for x in fhand:\n",
    "    x=x.rstrip()\n",
    "    if not 'best take' in x:\n",
    "        continue\n",
    "    print(x)\n",
    "        "
   ]
  },
  {
   "cell_type": "code",
   "execution_count": 28,
   "id": "4df8adb8",
   "metadata": {},
   "outputs": [
    {
     "name": "stdout",
     "output_type": "stream",
     "text": [
      "Enter the file name: file.txt\n",
      "The line that starts with HE is s hoping the results would produce something that was at least half their glory.\n"
     ]
    }
   ],
   "source": [
    "fname = input('Enter the file name: ')\n",
    "fhand=open(fname)\n",
    "count = 0\n",
    "for x in fhand:\n",
    "    if x.startswith('He'):\n",
    "        count = count+1\n",
    "print('The line that starts with HE is',x)\n",
    "    "
   ]
  },
  {
   "cell_type": "markdown",
   "id": "d72629d7",
   "metadata": {},
   "source": [
    "# Bad file names"
   ]
  },
  {
   "cell_type": "code",
   "execution_count": 30,
   "id": "79cded09",
   "metadata": {},
   "outputs": [
    {
     "name": "stdout",
     "output_type": "stream",
     "text": [
      "Enter name of file: hhh\n",
      "File not found hhh\n",
      "The line that starts with visuals is  s hoping the results would produce something that was at least half their glory.\n"
     ]
    }
   ],
   "source": [
    "fname = input('Enter name of file: ')\n",
    "try:\n",
    "    fhand = open(fname)\n",
    "except:\n",
    "    print('File not found',fname)\n",
    "count = 0\n",
    "for x in fhand:\n",
    "    if x.startswith('Visuals'):\n",
    "        count=count+1\n",
    "print('The line that starts with visuals is ',x)"
   ]
  },
  {
   "cell_type": "code",
   "execution_count": null,
   "id": "c3f9d82d",
   "metadata": {},
   "outputs": [],
   "source": []
  }
 ],
 "metadata": {
  "kernelspec": {
   "display_name": "Python 3 (ipykernel)",
   "language": "python",
   "name": "python3"
  },
  "language_info": {
   "codemirror_mode": {
    "name": "ipython",
    "version": 3
   },
   "file_extension": ".py",
   "mimetype": "text/x-python",
   "name": "python",
   "nbconvert_exporter": "python",
   "pygments_lexer": "ipython3",
   "version": "3.11.4"
  }
 },
 "nbformat": 4,
 "nbformat_minor": 5
}
